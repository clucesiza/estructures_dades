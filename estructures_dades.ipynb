{
 "cells": [
  {
   "cell_type": "markdown",
   "metadata": {},
   "source": [
    "# Sprint 3 🏃🏻‍♂️\n",
    "Comencem a familiaritzar-nos amb les estructures de dades de Python\n",
    "\n",
    "## Exercici 1\n",
    "+ Crea una llista que agrupi els mesos de l’any en trimestres (1T: Gener, Febrer i Març, 2T: Abril, Maig, Juny...), és a dir, una llista amb 4 llistes dins.\n",
    "\n",
    "## Exercici 2\n",
    "+ Crea un codi que et permeti accedir a:\n",
    "\n",
    "    + El segon mes del primer trimestre\n",
    "    + Els mesos del primer trimestre\n",
    "    + Setembre i octubre\n",
    "\n",
    "## Exercici 3\n",
    "+ Crea una llista amb nombres desordenats i respon a les següents preguntes:\n",
    "\n",
    "    + Quants números hi ha?\n",
    "    + Quantes vegades apareix el número 3\n",
    "    + Quantes vegades apareixen els nombres 3 i 4?\n",
    "    + Quin és el número més gran?\n",
    "    + Quins són els 3 números més petits?\n",
    "    + Quin és el rang d’aquesta llista?\n",
    "\n",
    "## Exercici 4\n",
    "+ Crea un diccionari de la següent forma i respon a les preguntes:\n",
    "\n",
    "    + compra = { \"Pomes\" : {\"Qty\": 5, \"€\": 0.42}, \"Peres\" : {\"Qty\": 3, \"€\": 0.66} }\n",
    "    + Afegeix alguna fruita més\n",
    "    + Quant han costat les peres en total?\n",
    "    + Quantes fruites hem comprat en total?\n",
    "    + Quina és la fruita més cara?"
   ]
  },
  {
   "cell_type": "markdown",
   "metadata": {},
   "source": [
    "## Exercici 1\n",
    "+ Crea una llista que agrupi els mesos de l’any en trimestres (1T: Gener, Febrer i Març, 2T: Abril, Maig, Juny...), és a dir, una llista amb 4 llistes dins."
   ]
  },
  {
   "cell_type": "code",
   "execution_count": 100,
   "metadata": {},
   "outputs": [
    {
     "name": "stdout",
     "output_type": "stream",
     "text": [
      "[['Gener', 'Febrer', 'Març'], ['Abril', 'Maig', 'Juny'], ['Juliol', 'Agost', 'Setembre'], ['Octubre', 'Novembre', 'Decembre']]\n"
     ]
    }
   ],
   "source": [
    "trimestreslista = [[\"Gener\",\"Febrer\",\"Març\"],[\"Abril\",\"Maig\",\"Juny\"],[\"Juliol\",\"Agost\",\"Setembre\"],[\"Octubre\",\"Novembre\",\"Decembre\"]]\n",
    "print (trimestreslista)"
   ]
  },
  {
   "cell_type": "markdown",
   "metadata": {},
   "source": [
    "## Exercici 2\n",
    "+ Crea un codi que et permeti accedir a:\n",
    "\n",
    "    + El segon mes del primer trimestre\n",
    "    + Els mesos del primer trimestre\n",
    "    + Setembre i octubre\n",
    "    "
   ]
  },
  {
   "cell_type": "code",
   "execution_count": 101,
   "metadata": {},
   "outputs": [
    {
     "name": "stdout",
     "output_type": "stream",
     "text": [
      "Segon mes del primer trimestre:  Febrer\n",
      "Els mesos del primer trimestre:  ['Gener', 'Febrer', 'Març']\n",
      "Setembre  i  Octubre\n"
     ]
    }
   ],
   "source": [
    "#Segon mes del primer trimestre\n",
    "print(\"Segon mes del primer trimestre: \", trimestreslista[0][1])\n",
    "\n",
    "#Els mesos del primer trismestre\n",
    "print(\"Els mesos del primer trimestre: \", trimestreslista[0][0:])\n",
    "\n",
    "#Setembre i Octubre\n",
    "print(trimestreslista[2][-1], \" i \", trimestreslista[3][0])\n",
    "\n"
   ]
  },
  {
   "cell_type": "markdown",
   "metadata": {},
   "source": [
    "## Exercici 3\n",
    "+ Crea una llista amb nombres desordenats i respon a les següents preguntes:\n",
    "\n",
    "    + Quants números hi ha?\n",
    "    + Quantes vegades apareix el número 3\n",
    "    + Quantes vegades apareixen els nombres 3 i 4?\n",
    "    + Quin és el número més gran?\n",
    "    + Quins són els 3 números més petits?\n",
    "    + Quin és el rang d’aquesta llista?"
   ]
  },
  {
   "cell_type": "code",
   "execution_count": 102,
   "metadata": {},
   "outputs": [
    {
     "name": "stdout",
     "output_type": "stream",
     "text": [
      "A la llista hi ha:  16  numeros\n",
      "El número 3 apareix  4  vegades\n",
      "El número 3 apareix  4  vegades\n",
      "El número 4 apareix  2  vegades\n",
      "El número màxim es:  90\n",
      "Els 3 números més petits son:  [0, 1, 3]\n",
      "El rang de la llista és de:  90  -  3  =  87\n"
     ]
    }
   ],
   "source": [
    "import math \n",
    "\n",
    "listadesordenada=[4,0,6,6,3,9,7,3,4,5,9,1,3,3,8,90]\n",
    "#Quants números hi ha?\n",
    "print(\"A la llista hi ha: \", len(listadesordenada), \" numeros\")\n",
    "\n",
    "#Quantes vegades apareix el número 3\n",
    "print(\"El número 3 apareix \",listadesordenada.count(3),\" vegades\")\n",
    "\n",
    "#Quantes vegades apareixen els nombres 3 i 4?\n",
    "print(\"El número 3 apareix \",listadesordenada.count(3),\" vegades\")\n",
    "print(\"El número 4 apareix \",listadesordenada.count(4),\" vegades\")\n",
    "\n",
    "#Quin és el número més gran?\n",
    "print(\"El número màxim es: \", max(listadesordenada))\n",
    "\n",
    "#Quins són els 3 números més petits?\n",
    "\n",
    "#creamos un contador de vueltas (total). Creamos una lista dónde se guardarán los mínimos. Creamos una lista auxiliar de la lista original par ano modificarla.\n",
    "#Con un while hacemos 3 vueltas\n",
    "#En el while, en la lista auxiliar, buscamos el mínimo, lo guardamos en la lista de mínimos y eliminamos el mínimo encontrado de la lista auxiliar.\n",
    "#De esta manera tendremos los 3 mínimos\n",
    "total=1\n",
    "lista_minimos=[]\n",
    "lista_aux=listadesordenada\n",
    "while total<=3:\n",
    "    minimo = min(lista_aux)\n",
    "    lista_minimos.append(minimo)\n",
    "    \n",
    "    lista_aux.remove(minimo)\n",
    "    \n",
    "    #print(lista_minimos)\n",
    "    \n",
    "    total+=1\n",
    "\n",
    "print(\"Els 3 números més petits son: \", lista_minimos)\n",
    "    \n",
    "#Quin és el rang d’aquesta llista?\n",
    "print(\"El rang de la llista és de: \", max(listadesordenada), \" - \", min(listadesordenada), \" = \", max(listadesordenada)- min(listadesordenada))\n"
   ]
  },
  {
   "cell_type": "markdown",
   "metadata": {},
   "source": [
    "## Exercici 4\n",
    "+ Crea un diccionari de la següent forma i respon a les preguntes:\n",
    "\n",
    "    + compra = { \"Pomes\" : {\"Qty\": 5, \"€\": 0.42}, \"Peres\" : {\"Qty\": 3, \"€\": 0.66} }\n",
    "    + Afegeix alguna fruita més\n",
    "    + Quant han costat les peres en total?\n",
    "    + Quantes fruites hem comprat en total?\n",
    "    + Quina és la fruita més cara?"
   ]
  },
  {
   "cell_type": "code",
   "execution_count": 103,
   "metadata": {},
   "outputs": [
    {
     "name": "stdout",
     "output_type": "stream",
     "text": [
      "Lista original:  {'Pomes': {'Qty': 5, '€': 0.42}, 'Peres': {'Qty': 3, '€': 0.66}}\n",
      "S'ha afegit una nova fruita:  {'Pomes': {'Qty': 5, '€': 0.42}, 'Peres': {'Qty': 3, '€': 0.66}, 'Presec': {'Qty': 12, '€': 4}}\n",
      "Les peres han costat  1.98 €\n",
      "Hem comprat un total de:  20 fruites\n",
      "La fruita més cara es:  Presec\n"
     ]
    }
   ],
   "source": [
    "import math\n",
    "\n",
    "compra = {\"Pomes\": {\"Qty\": 5, \"€\": 0.42}, \"Peres\": {\"Qty\": 3, \"€\": 0.66}}\n",
    "\n",
    "#Afegeix alguna fruita més\n",
    "print(\"Lista original: \", compra)\n",
    "compra[\"Presec\"] = {\"Qty\": 12, \"€\": 4}\n",
    "print(\"S'ha afegit una nova fruita: \", compra)\n",
    "\n",
    "#Quant han costat les peres en total?\n",
    "preu = compra[\"Peres\"].get(\"Qty\") * compra[\"Peres\"].get(\"€\")\n",
    "print(\"Les peres han costat \", preu, \"€\")\n",
    "\n",
    "#Quantes fruites hem comprat en total?\n",
    "total_fruites = 0\n",
    "for fruita in compra.keys():\n",
    "    total_fruites = total_fruites + compra[fruita][\"Qty\"]\n",
    "    #print(fruita, \" \", compra[fruita][\"Qty\"])\n",
    "\n",
    "print(\"Hem comprat un total de: \", total_fruites, \"fruites\")\n",
    "\n",
    "#Quina és la fruita més cara?\n",
    "max_value=max(int(d['€']) for d in compra.values())\n",
    "    \n",
    "for key, value in compra.items():\n",
    "    if max_value == value[\"€\"]:\n",
    "        fruita_cara=key\n",
    "    \n",
    "print(\"La fruita més cara es: \",fruita_cara)"
   ]
  }
 ],
 "metadata": {
  "kernelspec": {
   "display_name": "Python 3",
   "language": "python",
   "name": "python3"
  },
  "language_info": {
   "codemirror_mode": {
    "name": "ipython",
    "version": 3
   },
   "file_extension": ".py",
   "mimetype": "text/x-python",
   "name": "python",
   "nbconvert_exporter": "python",
   "pygments_lexer": "ipython3",
   "version": "3.8.5"
  },
  "latex_envs": {
   "LaTeX_envs_menu_present": true,
   "autoclose": false,
   "autocomplete": true,
   "bibliofile": "biblio.bib",
   "cite_by": "apalike",
   "current_citInitial": 1,
   "eqLabelWithNumbers": true,
   "eqNumInitial": 1,
   "hotkeys": {
    "equation": "Ctrl-E",
    "itemize": "Ctrl-I"
   },
   "labels_anchors": false,
   "latex_user_defs": false,
   "report_style_numbering": false,
   "user_envs_cfg": false
  },
  "varInspector": {
   "cols": {
    "lenName": 16,
    "lenType": 16,
    "lenVar": 40
   },
   "kernels_config": {
    "python": {
     "delete_cmd_postfix": "",
     "delete_cmd_prefix": "del ",
     "library": "var_list.py",
     "varRefreshCmd": "print(var_dic_list())"
    },
    "r": {
     "delete_cmd_postfix": ") ",
     "delete_cmd_prefix": "rm(",
     "library": "var_list.r",
     "varRefreshCmd": "cat(var_dic_list()) "
    }
   },
   "position": {
    "height": "494px",
    "left": "1131px",
    "right": "20px",
    "top": "121px",
    "width": "355px"
   },
   "types_to_exclude": [
    "module",
    "function",
    "builtin_function_or_method",
    "instance",
    "_Feature"
   ],
   "window_display": false
  }
 },
 "nbformat": 4,
 "nbformat_minor": 4
}
